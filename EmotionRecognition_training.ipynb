{
  "nbformat": 4,
  "nbformat_minor": 0,
  "metadata": {
    "colab": {
      "provenance": []
    },
    "kernelspec": {
      "name": "python3",
      "display_name": "Python 3"
    },
    "language_info": {
      "name": "python"
    }
  },
  "cells": [
    {
      "cell_type": "markdown",
      "source": [
        "# 🎯 Emotion Detection with LSTM (With Output Prints)"
      ],
      "metadata": {
        "id": "Kgl2NAkD_vyp"
      }
    },
    {
      "cell_type": "markdown",
      "source": [
        "## 📥 Step 1: Load and Balance the Dataset"
      ],
      "metadata": {
        "id": "7_hi_OJb_1AM"
      }
    },
    {
      "cell_type": "code",
      "execution_count": 2,
      "metadata": {
        "colab": {
          "base_uri": "https://localhost:8080/"
        },
        "id": "IaPVw31d_qxZ",
        "outputId": "f8aa5574-2378-4b5b-da7c-4c2f674d0110"
      },
      "outputs": [
        {
          "output_type": "stream",
          "name": "stdout",
          "text": [
            "🔹 Loading dataset...\n",
            "Original label distribution:\n",
            "label\n",
            "1    5362\n",
            "0    4666\n",
            "3    2159\n",
            "4    1937\n",
            "2    1304\n",
            "5     572\n",
            "Name: count, dtype: int64\n",
            "\n",
            "🔹 Balancing the dataset with upsampling...\n",
            "Balanced label distribution:\n",
            "label\n",
            "2    5362\n",
            "0    5362\n",
            "1    5362\n",
            "5    5362\n",
            "3    5362\n",
            "4    5362\n",
            "Name: count, dtype: int64\n"
          ]
        }
      ],
      "source": [
        "import pandas as pd\n",
        "from sklearn.utils import resample\n",
        "\n",
        "print(\"🔹 Loading dataset...\")\n",
        "train_df = pd.read_csv(\"/training.csv\")\n",
        "print(\"Original label distribution:\")\n",
        "print(train_df['label'].value_counts())\n",
        "\n",
        "# Upsample\n",
        "print(\"\\n🔹 Balancing the dataset with upsampling...\")\n",
        "max_count = train_df['label'].value_counts().max()\n",
        "balanced_dfs = []\n",
        "\n",
        "for label in train_df['label'].unique():\n",
        "    subset = train_df[train_df['label'] == label]\n",
        "    upsampled = resample(subset, replace=True, n_samples=max_count, random_state=42)\n",
        "    balanced_dfs.append(upsampled)\n",
        "\n",
        "balanced_df = pd.concat(balanced_dfs)\n",
        "balanced_df = balanced_df.sample(frac=1, random_state=42).reset_index(drop=True)\n",
        "\n",
        "print(\"Balanced label distribution:\")\n",
        "print(balanced_df['label'].value_counts())"
      ]
    },
    {
      "cell_type": "markdown",
      "source": [
        "## 🧽 Step 2: Clean the Text"
      ],
      "metadata": {
        "id": "e4q6Oq2_AhZS"
      }
    },
    {
      "cell_type": "code",
      "source": [
        "import re\n",
        "import pandas as pd\n",
        "\n",
        "# 🔹 1. Clean text function\n",
        "def clean_text(text):\n",
        "    text = re.sub(r'[^a-zA-Z\\s]', '', str(text))\n",
        "    text = text.lower().strip()\n",
        "    return text\n",
        "\n",
        "# 🔹 2. Clean the balanced_df\n",
        "print(\"\\n🔹 Cleaning text data...\")\n",
        "balanced_df['Cleaned_Text'] = balanced_df['text'].apply(clean_text)\n",
        "print(balanced_df[['text', 'Cleaned_Text']].head(3))\n",
        "\n",
        "# 🔹 3. Label map used by the model\n",
        "label_map = {\n",
        "    0: \"sadness\",\n",
        "    1: \"joy\",\n",
        "    2: \"love\",\n",
        "    3: \"anger\",\n",
        "    4: \"fear\",\n",
        "    5: \"surprise\"\n",
        "}\n",
        "# Invert it for string to int conversion\n",
        "label_inverse_map = {v: k for k, v in label_map.items()}\n",
        "\n",
        "# 🔹 4. Create custom nuanced emotion samples\n",
        "custom_data = pd.DataFrame({\n",
        "    'text': [\n",
        "        \"You always know exactly what I need.\",\n",
        "        \"I never knew someone could care this much.\",\n",
        "        \"Thank you… I don’t even have the words.\",\n",
        "        \"You made my entire day with that gesture.\",\n",
        "        \"Wait… what? Seriously? You did that?\",\n",
        "        \"I didn’t expect that. You made my day.\",\n",
        "        \"I feel so loved and supported right now.\",\n",
        "        \"You did all this… for me?\",\n",
        "        \"That was the sweetest thing anyone’s ever done.\",\n",
        "        \"I’m honestly speechless right now — wow!\"\n",
        "    ],\n",
        "    'label': [\n",
        "        label_inverse_map['love'], label_inverse_map['love'], label_inverse_map['love'],\n",
        "        label_inverse_map['love'], label_inverse_map['surprise'], label_inverse_map['surprise'],\n",
        "        label_inverse_map['love'], label_inverse_map['love'], label_inverse_map['love'],\n",
        "        label_inverse_map['surprise']\n",
        "    ]\n",
        "})\n",
        "\n",
        "# 🔹 5. Clean text for custom samples\n",
        "custom_data['Cleaned_Text'] = custom_data['text'].apply(clean_text)\n",
        "\n",
        "# 🔹 6. Clean up: remove any old string-labeled rows if they exist\n",
        "balanced_df = balanced_df[~balanced_df['label'].isin(['love', 'surprise'])]\n",
        "\n",
        "# 🔹 7. Append fixed custom samples to the main balanced_df\n",
        "balanced_df = pd.concat([balanced_df, custom_data], ignore_index=True)\n",
        "\n",
        "# 🔹 8. Final check\n",
        "print(\"✅ Added custom emotion samples with numeric labels.\")\n",
        "print(\"✅ Final shape:\", balanced_df.shape)\n",
        "print(\"✅ Final label distribution:\")\n",
        "print(balanced_df['label'].value_counts())"
      ],
      "metadata": {
        "colab": {
          "base_uri": "https://localhost:8080/"
        },
        "id": "VuWKFcMlAKZK",
        "outputId": "a097ce2c-eba6-49de-d5a4-0c4ae2816b13"
      },
      "execution_count": 5,
      "outputs": [
        {
          "output_type": "stream",
          "name": "stdout",
          "text": [
            "\n",
            "🔹 Cleaning text data...\n",
            "                                                text  \\\n",
            "0  i feel a lot of shame in not having many roman...   \n",
            "1  i still have feelings for him only broke up fo...   \n",
            "2                       i feel accepted for who i am   \n",
            "\n",
            "                                        Cleaned_Text  \n",
            "0  i feel a lot of shame in not having many roman...  \n",
            "1  i still have feelings for him only broke up fo...  \n",
            "2                       i feel accepted for who i am  \n",
            "✅ Added custom emotion samples with numeric labels.\n",
            "✅ Final shape: (32192, 3)\n",
            "✅ Final label distribution:\n",
            "label\n",
            "2    5376\n",
            "5    5368\n",
            "0    5362\n",
            "1    5362\n",
            "3    5362\n",
            "4    5362\n",
            "Name: count, dtype: int64\n"
          ]
        }
      ]
    },
    {
      "cell_type": "markdown",
      "source": [
        "## 🔡 Step 3: Tokenize and Encode the Data"
      ],
      "metadata": {
        "id": "zbQgA_9RAj2y"
      }
    },
    {
      "cell_type": "code",
      "source": [
        "from sklearn.model_selection import train_test_split\n",
        "from sklearn.preprocessing import LabelEncoder\n",
        "from tensorflow.keras.preprocessing.text import Tokenizer\n",
        "from tensorflow.keras.preprocessing.sequence import pad_sequences\n",
        "import numpy as np\n",
        "\n",
        "print(\"\\n🔹 Tokenizing text with 10k vocab and maxlen=150...\")\n",
        "tokenizer = Tokenizer(num_words=10000, oov_token=\"<OOV>\")\n",
        "tokenizer.fit_on_texts(balanced_df['Cleaned_Text'])\n",
        "\n",
        "sequences = tokenizer.texts_to_sequences(balanced_df['Cleaned_Text'])\n",
        "X = pad_sequences(sequences, maxlen=150)\n",
        "\n",
        "print(\"🔸 Tokenized sample:\\n\", sequences[:2])\n",
        "print(\"🔸 Padded shape:\", X.shape)\n",
        "\n",
        "print(\"\\n🔹 Encoding labels...\")\n",
        "le = LabelEncoder()\n",
        "y = le.fit_transform(balanced_df['label'])\n",
        "print(\"🔸 Encoded label sample:\", y[:5])\n",
        "\n",
        "X_train, X_val, y_train, y_val = train_test_split(X, y, test_size=0.2, random_state=42)\n",
        "print(\"🔸 Train/Val split:\", X_train.shape, X_val.shape)"
      ],
      "metadata": {
        "colab": {
          "base_uri": "https://localhost:8080/"
        },
        "id": "VYXpBG4GAok3",
        "outputId": "a6ece169-ed5c-4292-a8e1-79fd1b19711f"
      },
      "execution_count": 6,
      "outputs": [
        {
          "output_type": "stream",
          "name": "stdout",
          "text": [
            "\n",
            "🔹 Tokenizing text with 10k vocab and maxlen=150...\n",
            "🔸 Tokenized sample:\n",
            " [[2, 3, 7, 167, 10, 2297, 12, 27, 174, 142, 354, 872, 12, 6, 335], [2, 62, 21, 104, 17, 70, 115, 832, 42, 17, 7, 833, 35, 16, 82, 410, 165, 32, 6, 236, 4, 2, 67, 70, 100, 29, 155]]\n",
            "🔸 Padded shape: (32192, 150)\n",
            "\n",
            "🔹 Encoding labels...\n",
            "🔸 Encoded label sample: [2 0 2 2 1]\n",
            "🔸 Train/Val split: (25753, 150) (6439, 150)\n"
          ]
        }
      ]
    },
    {
      "cell_type": "markdown",
      "source": [
        "## 🧠 Step 4: Build and Train LSTM Model"
      ],
      "metadata": {
        "id": "8FdPOX65A1ye"
      }
    },
    {
      "cell_type": "code",
      "source": [
        "from tensorflow.keras.models import Sequential\n",
        "from tensorflow.keras.layers import Embedding, LSTM, Dropout, Dense\n",
        "from tensorflow.keras.callbacks import EarlyStopping\n",
        "\n",
        "print(\"\\n🔹 Building LSTM model...\")\n",
        "model = Sequential([\n",
        "    Embedding(input_dim=10000, output_dim=128),  # 🔁 Match tokenizer's num_words\n",
        "    LSTM(128),\n",
        "    Dropout(0.5),\n",
        "    Dense(64, activation='relu'),\n",
        "    Dropout(0.3),\n",
        "    Dense(len(np.unique(y)), activation='softmax')\n",
        "])\n",
        "\n",
        "model.compile(loss='sparse_categorical_crossentropy', optimizer='adam', metrics=['accuracy'])\n",
        "model.summary()\n",
        "\n",
        "print(\"\\n🔹 Training model...\")\n",
        "early_stop = EarlyStopping(monitor='val_loss', patience=3, restore_best_weights=True)\n",
        "\n",
        "history = model.fit(\n",
        "    X_train, y_train,\n",
        "    validation_data=(X_val, y_val),\n",
        "    epochs=10,\n",
        "    batch_size=32,  # 🔽 Smaller batch size = better generalization\n",
        "    callbacks=[early_stop]\n",
        ")"
      ],
      "metadata": {
        "colab": {
          "base_uri": "https://localhost:8080/",
          "height": 589
        },
        "id": "laVdhdFWA1gi",
        "outputId": "eb470695-a225-4592-fd8b-ded44a3144bc"
      },
      "execution_count": 9,
      "outputs": [
        {
          "output_type": "stream",
          "name": "stdout",
          "text": [
            "\n",
            "🔹 Building LSTM model...\n"
          ]
        },
        {
          "output_type": "display_data",
          "data": {
            "text/plain": [
              "\u001b[1mModel: \"sequential_2\"\u001b[0m\n"
            ],
            "text/html": [
              "<pre style=\"white-space:pre;overflow-x:auto;line-height:normal;font-family:Menlo,'DejaVu Sans Mono',consolas,'Courier New',monospace\"><span style=\"font-weight: bold\">Model: \"sequential_2\"</span>\n",
              "</pre>\n"
            ]
          },
          "metadata": {}
        },
        {
          "output_type": "display_data",
          "data": {
            "text/plain": [
              "┏━━━━━━━━━━━━━━━━━━━━━━━━━━━━━━━━━━━━━━┳━━━━━━━━━━━━━━━━━━━━━━━━━━━━━┳━━━━━━━━━━━━━━━━━┓\n",
              "┃\u001b[1m \u001b[0m\u001b[1mLayer (type)                        \u001b[0m\u001b[1m \u001b[0m┃\u001b[1m \u001b[0m\u001b[1mOutput Shape               \u001b[0m\u001b[1m \u001b[0m┃\u001b[1m \u001b[0m\u001b[1m        Param #\u001b[0m\u001b[1m \u001b[0m┃\n",
              "┡━━━━━━━━━━━━━━━━━━━━━━━━━━━━━━━━━━━━━━╇━━━━━━━━━━━━━━━━━━━━━━━━━━━━━╇━━━━━━━━━━━━━━━━━┩\n",
              "│ embedding_2 (\u001b[38;5;33mEmbedding\u001b[0m)              │ ?                           │     \u001b[38;5;34m0\u001b[0m (unbuilt) │\n",
              "├──────────────────────────────────────┼─────────────────────────────┼─────────────────┤\n",
              "│ lstm_2 (\u001b[38;5;33mLSTM\u001b[0m)                        │ ?                           │     \u001b[38;5;34m0\u001b[0m (unbuilt) │\n",
              "├──────────────────────────────────────┼─────────────────────────────┼─────────────────┤\n",
              "│ dropout_4 (\u001b[38;5;33mDropout\u001b[0m)                  │ ?                           │               \u001b[38;5;34m0\u001b[0m │\n",
              "├──────────────────────────────────────┼─────────────────────────────┼─────────────────┤\n",
              "│ dense_4 (\u001b[38;5;33mDense\u001b[0m)                      │ ?                           │     \u001b[38;5;34m0\u001b[0m (unbuilt) │\n",
              "├──────────────────────────────────────┼─────────────────────────────┼─────────────────┤\n",
              "│ dropout_5 (\u001b[38;5;33mDropout\u001b[0m)                  │ ?                           │               \u001b[38;5;34m0\u001b[0m │\n",
              "├──────────────────────────────────────┼─────────────────────────────┼─────────────────┤\n",
              "│ dense_5 (\u001b[38;5;33mDense\u001b[0m)                      │ ?                           │     \u001b[38;5;34m0\u001b[0m (unbuilt) │\n",
              "└──────────────────────────────────────┴─────────────────────────────┴─────────────────┘\n"
            ],
            "text/html": [
              "<pre style=\"white-space:pre;overflow-x:auto;line-height:normal;font-family:Menlo,'DejaVu Sans Mono',consolas,'Courier New',monospace\">┏━━━━━━━━━━━━━━━━━━━━━━━━━━━━━━━━━━━━━━┳━━━━━━━━━━━━━━━━━━━━━━━━━━━━━┳━━━━━━━━━━━━━━━━━┓\n",
              "┃<span style=\"font-weight: bold\"> Layer (type)                         </span>┃<span style=\"font-weight: bold\"> Output Shape                </span>┃<span style=\"font-weight: bold\">         Param # </span>┃\n",
              "┡━━━━━━━━━━━━━━━━━━━━━━━━━━━━━━━━━━━━━━╇━━━━━━━━━━━━━━━━━━━━━━━━━━━━━╇━━━━━━━━━━━━━━━━━┩\n",
              "│ embedding_2 (<span style=\"color: #0087ff; text-decoration-color: #0087ff\">Embedding</span>)              │ ?                           │     <span style=\"color: #00af00; text-decoration-color: #00af00\">0</span> (unbuilt) │\n",
              "├──────────────────────────────────────┼─────────────────────────────┼─────────────────┤\n",
              "│ lstm_2 (<span style=\"color: #0087ff; text-decoration-color: #0087ff\">LSTM</span>)                        │ ?                           │     <span style=\"color: #00af00; text-decoration-color: #00af00\">0</span> (unbuilt) │\n",
              "├──────────────────────────────────────┼─────────────────────────────┼─────────────────┤\n",
              "│ dropout_4 (<span style=\"color: #0087ff; text-decoration-color: #0087ff\">Dropout</span>)                  │ ?                           │               <span style=\"color: #00af00; text-decoration-color: #00af00\">0</span> │\n",
              "├──────────────────────────────────────┼─────────────────────────────┼─────────────────┤\n",
              "│ dense_4 (<span style=\"color: #0087ff; text-decoration-color: #0087ff\">Dense</span>)                      │ ?                           │     <span style=\"color: #00af00; text-decoration-color: #00af00\">0</span> (unbuilt) │\n",
              "├──────────────────────────────────────┼─────────────────────────────┼─────────────────┤\n",
              "│ dropout_5 (<span style=\"color: #0087ff; text-decoration-color: #0087ff\">Dropout</span>)                  │ ?                           │               <span style=\"color: #00af00; text-decoration-color: #00af00\">0</span> │\n",
              "├──────────────────────────────────────┼─────────────────────────────┼─────────────────┤\n",
              "│ dense_5 (<span style=\"color: #0087ff; text-decoration-color: #0087ff\">Dense</span>)                      │ ?                           │     <span style=\"color: #00af00; text-decoration-color: #00af00\">0</span> (unbuilt) │\n",
              "└──────────────────────────────────────┴─────────────────────────────┴─────────────────┘\n",
              "</pre>\n"
            ]
          },
          "metadata": {}
        },
        {
          "output_type": "display_data",
          "data": {
            "text/plain": [
              "\u001b[1m Total params: \u001b[0m\u001b[38;5;34m0\u001b[0m (0.00 B)\n"
            ],
            "text/html": [
              "<pre style=\"white-space:pre;overflow-x:auto;line-height:normal;font-family:Menlo,'DejaVu Sans Mono',consolas,'Courier New',monospace\"><span style=\"font-weight: bold\"> Total params: </span><span style=\"color: #00af00; text-decoration-color: #00af00\">0</span> (0.00 B)\n",
              "</pre>\n"
            ]
          },
          "metadata": {}
        },
        {
          "output_type": "display_data",
          "data": {
            "text/plain": [
              "\u001b[1m Trainable params: \u001b[0m\u001b[38;5;34m0\u001b[0m (0.00 B)\n"
            ],
            "text/html": [
              "<pre style=\"white-space:pre;overflow-x:auto;line-height:normal;font-family:Menlo,'DejaVu Sans Mono',consolas,'Courier New',monospace\"><span style=\"font-weight: bold\"> Trainable params: </span><span style=\"color: #00af00; text-decoration-color: #00af00\">0</span> (0.00 B)\n",
              "</pre>\n"
            ]
          },
          "metadata": {}
        },
        {
          "output_type": "display_data",
          "data": {
            "text/plain": [
              "\u001b[1m Non-trainable params: \u001b[0m\u001b[38;5;34m0\u001b[0m (0.00 B)\n"
            ],
            "text/html": [
              "<pre style=\"white-space:pre;overflow-x:auto;line-height:normal;font-family:Menlo,'DejaVu Sans Mono',consolas,'Courier New',monospace\"><span style=\"font-weight: bold\"> Non-trainable params: </span><span style=\"color: #00af00; text-decoration-color: #00af00\">0</span> (0.00 B)\n",
              "</pre>\n"
            ]
          },
          "metadata": {}
        },
        {
          "output_type": "stream",
          "name": "stdout",
          "text": [
            "\n",
            "🔹 Training model...\n",
            "Epoch 1/10\n",
            "\u001b[1m805/805\u001b[0m \u001b[32m━━━━━━━━━━━━━━━━━━━━\u001b[0m\u001b[37m\u001b[0m \u001b[1m216s\u001b[0m 264ms/step - accuracy: 0.4594 - loss: 1.2955 - val_accuracy: 0.9342 - val_loss: 0.2035\n",
            "Epoch 2/10\n",
            "\u001b[1m805/805\u001b[0m \u001b[32m━━━━━━━━━━━━━━━━━━━━\u001b[0m\u001b[37m\u001b[0m \u001b[1m268s\u001b[0m 271ms/step - accuracy: 0.9574 - loss: 0.1535 - val_accuracy: 0.9685 - val_loss: 0.1016\n",
            "Epoch 3/10\n",
            "\u001b[1m805/805\u001b[0m \u001b[32m━━━━━━━━━━━━━━━━━━━━\u001b[0m\u001b[37m\u001b[0m \u001b[1m281s\u001b[0m 294ms/step - accuracy: 0.9831 - loss: 0.0624 - val_accuracy: 0.9700 - val_loss: 0.1092\n",
            "Epoch 4/10\n",
            "\u001b[1m805/805\u001b[0m \u001b[32m━━━━━━━━━━━━━━━━━━━━\u001b[0m\u001b[37m\u001b[0m \u001b[1m246s\u001b[0m 275ms/step - accuracy: 0.9847 - loss: 0.0506 - val_accuracy: 0.9731 - val_loss: 0.1206\n",
            "Epoch 5/10\n",
            "\u001b[1m805/805\u001b[0m \u001b[32m━━━━━━━━━━━━━━━━━━━━\u001b[0m\u001b[37m\u001b[0m \u001b[1m254s\u001b[0m 265ms/step - accuracy: 0.9904 - loss: 0.0336 - val_accuracy: 0.9752 - val_loss: 0.1150\n"
          ]
        }
      ]
    },
    {
      "cell_type": "markdown",
      "source": [
        "## 📊 Step 5: Evaluate Model Performance"
      ],
      "metadata": {
        "id": "rUNzbCPrA_fi"
      }
    },
    {
      "cell_type": "code",
      "source": [
        "import matplotlib.pyplot as plt\n",
        "\n",
        "print(\"\\n🔹 Plotting training history...\")\n",
        "\n",
        "# Accuracy\n",
        "plt.plot(history.history['accuracy'], label='Train Accuracy')\n",
        "plt.plot(history.history['val_accuracy'], label='Val Accuracy')\n",
        "plt.xlabel('Epochs')\n",
        "plt.ylabel('Accuracy')\n",
        "plt.title('Model Accuracy')\n",
        "plt.legend()\n",
        "plt.grid(True)\n",
        "plt.show()\n",
        "\n",
        "# Loss\n",
        "plt.plot(history.history['loss'], label='Train Loss')\n",
        "plt.plot(history.history['val_loss'], label='Val Loss')\n",
        "plt.xlabel('Epochs')\n",
        "plt.ylabel('Loss')\n",
        "plt.title('Model Loss')\n",
        "plt.legend()\n",
        "plt.grid(True)\n",
        "plt.show()"
      ],
      "metadata": {
        "colab": {
          "base_uri": "https://localhost:8080/",
          "height": 962
        },
        "id": "9rTVObHBBDds",
        "outputId": "188ba9f4-6e5a-4faf-e2a5-d2a3d7413da8"
      },
      "execution_count": 10,
      "outputs": [
        {
          "output_type": "stream",
          "name": "stdout",
          "text": [
            "\n",
            "🔹 Plotting training history...\n"
          ]
        },
        {
          "output_type": "display_data",
          "data": {
            "text/plain": [
              "<Figure size 640x480 with 1 Axes>"
            ],
            "image/png": "[encoded data removed]"
          },
          "metadata": {}
        },
        {
          "output_type": "display_data",
          "data": {
            "text/plain": [
              "<Figure size 640x480 with 1 Axes>"
            ],
            "image/png": "[encoded data removed]"
          },
          "metadata": {}
        }
      ]
    },
    {
      "cell_type": "markdown",
      "source": [
        "## 💾 Step 6: Save Model, Tokenizer, and Label Map"
      ],
      "metadata": {
        "id": "7xkPJyj8BJQj"
      }
    },
    {
      "cell_type": "code",
      "source": [
        "print(\"\\n🔹 Saving model and artifacts...\")\n",
        "\n",
        "model.save(\"emotion_model.h5\")\n",
        "print(\"✅ Saved model to emotion_model.h5\")\n",
        "\n",
        "import pickle\n",
        "with open(\"tokenizer.pkl\", \"wb\") as f:\n",
        "    pickle.dump(tokenizer, f)\n",
        "print(\"✅ Saved tokenizer to tokenizer.pkl\")\n",
        "\n",
        "label_map = {\n",
        "    0: \"sadness\",\n",
        "    1: \"joy\",\n",
        "    2: \"love\",\n",
        "    3: \"anger\",\n",
        "    4: \"fear\",\n",
        "    5: \"surprise\"\n",
        "}\n",
        "with open(\"label_map.pkl\", \"wb\") as f:\n",
        "    pickle.dump(label_map, f)\n",
        "print(\"✅ Saved label map to label_map.pkl\")"
      ],
      "metadata": {
        "colab": {
          "base_uri": "https://localhost:8080/"
        },
        "id": "42r4_-2_BI5G",
        "outputId": "0cd8058e-17d3-4987-f630-bfd99a6bad15"
      },
      "execution_count": 11,
      "outputs": [
        {
          "output_type": "stream",
          "name": "stderr",
          "text": [
            "WARNING:absl:You are saving your model as an HDF5 file via `model.save()` or `keras.saving.save_model(model)`. This file format is considered legacy. We recommend using instead the native Keras format, e.g. `model.save('my_model.keras')` or `keras.saving.save_model(model, 'my_model.keras')`. \n"
          ]
        },
        {
          "output_type": "stream",
          "name": "stdout",
          "text": [
            "\n",
            "🔹 Saving model and artifacts...\n",
            "✅ Saved model to emotion_model.h5\n",
            "✅ Saved tokenizer to tokenizer.pkl\n",
            "✅ Saved label map to label_map.pkl\n"
          ]
        }
      ]
    },
    {
      "cell_type": "code",
      "source": [
        "from google.colab import files\n",
        "\n",
        "files.download(\"emotion_model.h5\")\n",
        "files.download(\"tokenizer.pkl\")\n",
        "files.download(\"label_map.pkl\")"
      ],
      "metadata": {
        "colab": {
          "base_uri": "https://localhost:8080/",
          "height": 17
        },
        "id": "a2Ud1ySJFBV3",
        "outputId": "4d06d0c0-23e9-4318-d0fa-376d1609bb20"
      },
      "execution_count": 12,
      "outputs": [
        {
          "output_type": "display_data",
          "data": {
            "text/plain": [
              "<IPython.core.display.Javascript object>"
            ],
            "application/javascript": [
              "\n",
              "    async function download(id, filename, size) {\n",
              "      if (!google.colab.kernel.accessAllowed) {\n",
              "        return;\n",
              "      }\n",
              "      const div = document.createElement('div');\n",
              "      const label = document.createElement('label');\n",
              "      label.textContent = `Downloading \"${filename}\": `;\n",
              "      div.appendChild(label);\n",
              "      const progress = document.createElement('progress');\n",
              "      progress.max = size;\n",
              "      div.appendChild(progress);\n",
              "      document.body.appendChild(div);\n",
              "\n",
              "      const buffers = [];\n",
              "      let downloaded = 0;\n",
              "\n",
              "      const channel = await google.colab.kernel.comms.open(id);\n",
              "      // Send a message to notify the kernel that we're ready.\n",
              "      channel.send({})\n",
              "\n",
              "      for await (const message of channel.messages) {\n",
              "        // Send a message to notify the kernel that we're ready.\n",
              "        channel.send({})\n",
              "        if (message.buffers) {\n",
              "          for (const buffer of message.buffers) {\n",
              "            buffers.push(buffer);\n",
              "            downloaded += buffer.byteLength;\n",
              "            progress.value = downloaded;\n",
              "          }\n",
              "        }\n",
              "      }\n",
              "      const blob = new Blob(buffers, {type: 'application/binary'});\n",
              "      const a = document.createElement('a');\n",
              "      a.href = window.URL.createObjectURL(blob);\n",
              "      a.download = filename;\n",
              "      div.appendChild(a);\n",
              "      a.click();\n",
              "      div.remove();\n",
              "    }\n",
              "  "
            ]
          },
          "metadata": {}
        },
        {
          "output_type": "display_data",
          "data": {
            "text/plain": [
              "<IPython.core.display.Javascript object>"
            ],
            "application/javascript": [
              "download(\"download_60444b85-209a-44c9-a20b-dffda24476fb\", \"emotion_model.h5\", 17083600)"
            ]
          },
          "metadata": {}
        },
        {
          "output_type": "display_data",
          "data": {
            "text/plain": [
              "<IPython.core.display.Javascript object>"
            ],
            "application/javascript": [
              "\n",
              "    async function download(id, filename, size) {\n",
              "      if (!google.colab.kernel.accessAllowed) {\n",
              "        return;\n",
              "      }\n",
              "      const div = document.createElement('div');\n",
              "      const label = document.createElement('label');\n",
              "      label.textContent = `Downloading \"${filename}\": `;\n",
              "      div.appendChild(label);\n",
              "      const progress = document.createElement('progress');\n",
              "      progress.max = size;\n",
              "      div.appendChild(progress);\n",
              "      document.body.appendChild(div);\n",
              "\n",
              "      const buffers = [];\n",
              "      let downloaded = 0;\n",
              "\n",
              "      const channel = await google.colab.kernel.comms.open(id);\n",
              "      // Send a message to notify the kernel that we're ready.\n",
              "      channel.send({})\n",
              "\n",
              "      for await (const message of channel.messages) {\n",
              "        // Send a message to notify the kernel that we're ready.\n",
              "        channel.send({})\n",
              "        if (message.buffers) {\n",
              "          for (const buffer of message.buffers) {\n",
              "            buffers.push(buffer);\n",
              "            downloaded += buffer.byteLength;\n",
              "            progress.value = downloaded;\n",
              "          }\n",
              "        }\n",
              "      }\n",
              "      const blob = new Blob(buffers, {type: 'application/binary'});\n",
              "      const a = document.createElement('a');\n",
              "      a.href = window.URL.createObjectURL(blob);\n",
              "      a.download = filename;\n",
              "      div.appendChild(a);\n",
              "      a.click();\n",
              "      div.remove();\n",
              "    }\n",
              "  "
            ]
          },
          "metadata": {}
        },
        {
          "output_type": "display_data",
          "data": {
            "text/plain": [
              "<IPython.core.display.Javascript object>"
            ],
            "application/javascript": [
              "download(\"download_cc64ef73-d8c8-44e5-9437-4a308c32303b\", \"tokenizer.pkl\", 524959)"
            ]
          },
          "metadata": {}
        },
        {
          "output_type": "display_data",
          "data": {
            "text/plain": [
              "<IPython.core.display.Javascript object>"
            ],
            "application/javascript": [
              "\n",
              "    async function download(id, filename, size) {\n",
              "      if (!google.colab.kernel.accessAllowed) {\n",
              "        return;\n",
              "      }\n",
              "      const div = document.createElement('div');\n",
              "      const label = document.createElement('label');\n",
              "      label.textContent = `Downloading \"${filename}\": `;\n",
              "      div.appendChild(label);\n",
              "      const progress = document.createElement('progress');\n",
              "      progress.max = size;\n",
              "      div.appendChild(progress);\n",
              "      document.body.appendChild(div);\n",
              "\n",
              "      const buffers = [];\n",
              "      let downloaded = 0;\n",
              "\n",
              "      const channel = await google.colab.kernel.comms.open(id);\n",
              "      // Send a message to notify the kernel that we're ready.\n",
              "      channel.send({})\n",
              "\n",
              "      for await (const message of channel.messages) {\n",
              "        // Send a message to notify the kernel that we're ready.\n",
              "        channel.send({})\n",
              "        if (message.buffers) {\n",
              "          for (const buffer of message.buffers) {\n",
              "            buffers.push(buffer);\n",
              "            downloaded += buffer.byteLength;\n",
              "            progress.value = downloaded;\n",
              "          }\n",
              "        }\n",
              "      }\n",
              "      const blob = new Blob(buffers, {type: 'application/binary'});\n",
              "      const a = document.createElement('a');\n",
              "      a.href = window.URL.createObjectURL(blob);\n",
              "      a.download = filename;\n",
              "      div.appendChild(a);\n",
              "      a.click();\n",
              "      div.remove();\n",
              "    }\n",
              "  "
            ]
          },
          "metadata": {}
        },
        {
          "output_type": "display_data",
          "data": {
            "text/plain": [
              "<IPython.core.display.Javascript object>"
            ],
            "application/javascript": [
              "download(\"download_95deb330-5ce9-4405-859b-17e32871d380\", \"label_map.pkl\", 77)"
            ]
          },
          "metadata": {}
        }
      ]
    }
  ]
}